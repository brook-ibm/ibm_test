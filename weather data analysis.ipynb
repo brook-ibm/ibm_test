{
    "cells": [
        {
            "metadata": {},
            "cell_type": "markdown",
            "source": "# Description\n\nThis notebook analyzes and visualizes weather data for Washigton state."
        },
        {
            "metadata": {},
            "cell_type": "code",
            "source": "\nimport types\nimport pandas as pd\nfrom botocore.client import Config\nimport ibm_boto3\n\ndef __iter__(self): return 0\n\n# @hidden_cell\n# The following code accesses a file in your IBM Cloud Object Storage. It includes your credentials.\n# You might want to remove those credentials before you share the notebook.\nclient_7e08a35e12184e1785c790aca6030de4 = ibm_boto3.client(service_name='s3',\n    ibm_api_key_id='LAQcse9AYCdfBebl9MP0_nxSIEYrfWq4By6CPi1mGWKz',\n    ibm_auth_endpoint=\"https://iam.cloud.ibm.com/oidc/token\",\n    config=Config(signature_version='oauth'),\n    endpoint_url='https://s3-api.us-geo.objectstorage.service.networklayer.com')\n\nbody = client_7e08a35e12184e1785c790aca6030de4.get_object(Bucket='jupyternotebooks-donotdelete-pr-2xz5tzqpljylzg',Key='weather.csv')['Body']\n# add missing __iter__ method, so pandas accepts body as file-like object\nif not hasattr(body, \"__iter__\"): body.__iter__ = types.MethodType( __iter__, body )\n\ndf_data_1 = pd.read_csv(body)\ndf_data_1.head()\n",
            "execution_count": 2,
            "outputs": [
                {
                    "output_type": "execute_result",
                    "execution_count": 2,
                    "data": {
                        "text/plain": "       STATION                 NAME   DATE  DLY-PRCP-25PCTL  DLY-PRCP-50PCTL  \\\n0  USC00456295  PALMER 3 ESE, WA US  01-01             0.13             0.35   \n1  USC00456295  PALMER 3 ESE, WA US  01-02             0.13             0.35   \n2  USC00456295  PALMER 3 ESE, WA US  01-03             0.13             0.35   \n3  USC00456295  PALMER 3 ESE, WA US  01-04             0.13             0.35   \n4  USC00456295  PALMER 3 ESE, WA US  01-05             0.13             0.35   \n\n   DLY-PRCP-75PCTL  DLY-PRCP-PCTALL-GE001HI  DLY-PRCP-PCTALL-GE010HI  \\\n0             0.75                     62.8                    511.0   \n1             0.75                     62.9                    512.0   \n2             0.75                     62.9                    513.0   \n3             0.75                     63.0                    514.0   \n4             0.75                     63.0                    514.0   \n\n   DLY-PRCP-PCTALL-GE050HI  DLY-PRCP-PCTALL-GE100HI  ...  DLY-SNWD-50PCTL  \\\n0                    249.0                    102.0  ...              3.0   \n1                    250.0                    102.0  ...              3.0   \n2                    250.0                    103.0  ...              3.0   \n3                    251.0                    103.0  ...              3.0   \n4                    251.0                    102.0  ...              3.0   \n\n   DLY-SNWD-75PCTL  DLY-SNWD-PCTALL-GE001WI  DLY-SNWD-PCTALL-GE003WI  \\\n0              6.0                    148.0                     77.0   \n1              6.0                    149.0                     78.0   \n2              6.0                    149.0                     79.0   \n3              6.0                    149.0                     80.0   \n4              6.0                    149.0                     81.0   \n\n   DLY-SNWD-PCTALL-GE005WI  DLY-SNWD-PCTALL-GE010WI  MTD-PRCP-NORMAL  \\\n0                     45.0                     15.0             0.34   \n1                     45.0                     16.0             0.69   \n2                     46.0                     17.0             1.05   \n3                     46.0                     17.0             1.41   \n4                     46.0                     17.0             1.76   \n\n   MTD-SNOW-NORMAL  YTD-PRCP-NORMAL  YTD-SNOW-NORMAL  \n0              0.2             0.34              0.2  \n1              0.4             0.69              0.4  \n2              0.6             1.05              0.6  \n3              0.9             1.41              0.9  \n4              1.1             1.76              1.1  \n\n[5 rows x 29 columns]",
                        "text/html": "<div>\n<style scoped>\n    .dataframe tbody tr th:only-of-type {\n        vertical-align: middle;\n    }\n\n    .dataframe tbody tr th {\n        vertical-align: top;\n    }\n\n    .dataframe thead th {\n        text-align: right;\n    }\n</style>\n<table border=\"1\" class=\"dataframe\">\n  <thead>\n    <tr style=\"text-align: right;\">\n      <th></th>\n      <th>STATION</th>\n      <th>NAME</th>\n      <th>DATE</th>\n      <th>DLY-PRCP-25PCTL</th>\n      <th>DLY-PRCP-50PCTL</th>\n      <th>DLY-PRCP-75PCTL</th>\n      <th>DLY-PRCP-PCTALL-GE001HI</th>\n      <th>DLY-PRCP-PCTALL-GE010HI</th>\n      <th>DLY-PRCP-PCTALL-GE050HI</th>\n      <th>DLY-PRCP-PCTALL-GE100HI</th>\n      <th>...</th>\n      <th>DLY-SNWD-50PCTL</th>\n      <th>DLY-SNWD-75PCTL</th>\n      <th>DLY-SNWD-PCTALL-GE001WI</th>\n      <th>DLY-SNWD-PCTALL-GE003WI</th>\n      <th>DLY-SNWD-PCTALL-GE005WI</th>\n      <th>DLY-SNWD-PCTALL-GE010WI</th>\n      <th>MTD-PRCP-NORMAL</th>\n      <th>MTD-SNOW-NORMAL</th>\n      <th>YTD-PRCP-NORMAL</th>\n      <th>YTD-SNOW-NORMAL</th>\n    </tr>\n  </thead>\n  <tbody>\n    <tr>\n      <th>0</th>\n      <td>USC00456295</td>\n      <td>PALMER 3 ESE, WA US</td>\n      <td>01-01</td>\n      <td>0.13</td>\n      <td>0.35</td>\n      <td>0.75</td>\n      <td>62.8</td>\n      <td>511.0</td>\n      <td>249.0</td>\n      <td>102.0</td>\n      <td>...</td>\n      <td>3.0</td>\n      <td>6.0</td>\n      <td>148.0</td>\n      <td>77.0</td>\n      <td>45.0</td>\n      <td>15.0</td>\n      <td>0.34</td>\n      <td>0.2</td>\n      <td>0.34</td>\n      <td>0.2</td>\n    </tr>\n    <tr>\n      <th>1</th>\n      <td>USC00456295</td>\n      <td>PALMER 3 ESE, WA US</td>\n      <td>01-02</td>\n      <td>0.13</td>\n      <td>0.35</td>\n      <td>0.75</td>\n      <td>62.9</td>\n      <td>512.0</td>\n      <td>250.0</td>\n      <td>102.0</td>\n      <td>...</td>\n      <td>3.0</td>\n      <td>6.0</td>\n      <td>149.0</td>\n      <td>78.0</td>\n      <td>45.0</td>\n      <td>16.0</td>\n      <td>0.69</td>\n      <td>0.4</td>\n      <td>0.69</td>\n      <td>0.4</td>\n    </tr>\n    <tr>\n      <th>2</th>\n      <td>USC00456295</td>\n      <td>PALMER 3 ESE, WA US</td>\n      <td>01-03</td>\n      <td>0.13</td>\n      <td>0.35</td>\n      <td>0.75</td>\n      <td>62.9</td>\n      <td>513.0</td>\n      <td>250.0</td>\n      <td>103.0</td>\n      <td>...</td>\n      <td>3.0</td>\n      <td>6.0</td>\n      <td>149.0</td>\n      <td>79.0</td>\n      <td>46.0</td>\n      <td>17.0</td>\n      <td>1.05</td>\n      <td>0.6</td>\n      <td>1.05</td>\n      <td>0.6</td>\n    </tr>\n    <tr>\n      <th>3</th>\n      <td>USC00456295</td>\n      <td>PALMER 3 ESE, WA US</td>\n      <td>01-04</td>\n      <td>0.13</td>\n      <td>0.35</td>\n      <td>0.75</td>\n      <td>63.0</td>\n      <td>514.0</td>\n      <td>251.0</td>\n      <td>103.0</td>\n      <td>...</td>\n      <td>3.0</td>\n      <td>6.0</td>\n      <td>149.0</td>\n      <td>80.0</td>\n      <td>46.0</td>\n      <td>17.0</td>\n      <td>1.41</td>\n      <td>0.9</td>\n      <td>1.41</td>\n      <td>0.9</td>\n    </tr>\n    <tr>\n      <th>4</th>\n      <td>USC00456295</td>\n      <td>PALMER 3 ESE, WA US</td>\n      <td>01-05</td>\n      <td>0.13</td>\n      <td>0.35</td>\n      <td>0.75</td>\n      <td>63.0</td>\n      <td>514.0</td>\n      <td>251.0</td>\n      <td>102.0</td>\n      <td>...</td>\n      <td>3.0</td>\n      <td>6.0</td>\n      <td>149.0</td>\n      <td>81.0</td>\n      <td>46.0</td>\n      <td>17.0</td>\n      <td>1.76</td>\n      <td>1.1</td>\n      <td>1.76</td>\n      <td>1.1</td>\n    </tr>\n  </tbody>\n</table>\n<p>5 rows \u00d7 29 columns</p>\n</div>"
                    },
                    "metadata": {}
                }
            ]
        },
        {
            "metadata": {},
            "cell_type": "code",
            "source": "",
            "execution_count": null,
            "outputs": []
        }
    ],
    "metadata": {
        "kernelspec": {
            "name": "python3",
            "display_name": "Python 3.7",
            "language": "python"
        },
        "language_info": {
            "name": "python",
            "version": "3.7.9",
            "mimetype": "text/x-python",
            "codemirror_mode": {
                "name": "ipython",
                "version": 3
            },
            "pygments_lexer": "ipython3",
            "nbconvert_exporter": "python",
            "file_extension": ".py"
        }
    },
    "nbformat": 4,
    "nbformat_minor": 1
}